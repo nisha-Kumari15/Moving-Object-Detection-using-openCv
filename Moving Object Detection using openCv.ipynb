{
 "cells": [
  {
   "cell_type": "markdown",
   "id": "golden-junior",
   "metadata": {},
   "source": [
    "## MOVING OBJECT DETECTION\n"
   ]
  },
  {
   "cell_type": "code",
   "execution_count": null,
   "id": "developed-louisiana",
   "metadata": {},
   "outputs": [],
   "source": [
    "\n",
    "import time\n",
    "import imutils\n",
    "\n",
    "cam = cv2.VideoCapture(0)\n",
    "time.sleep(1)\n",
    "\n",
    "firstFrame = None\n",
    "area = 800\n",
    "while True:\n",
    "    _,img = cam.read()\n",
    "    text = \"No Moving Object Found\"\n",
    "    img = imutils.resize(img, width=500)\n",
    "    grayImg = cv2.cvtColor(img, cv2.COLOR_BGR2GRAY)\n",
    "    gaussianImg = cv2.GaussianBlur(grayImg, (21,21), 0)\n",
    "    if firstFrame is None:\n",
    "        firstFrame = gaussianImg\n",
    "        continue\n",
    "    imgDiff = cv2.absdiff(firstFrame, gaussianImg)\n",
    "    thresImg = cv2.threshold(imgDiff, 25, 255, cv2.THRESH_BINARY)[1]\n",
    "    thresImg = cv2.dilate(thresImg, None, iterations = 2)\n",
    "    cnts = cv2.findContours(thresImg.copy(), cv2.RETR_EXTERNAL,\n",
    "                         cv2.CHAIN_APPROX_SIMPLE)\n",
    "    cnts = imutils.grab_contours(cnts)\n",
    "    for c in cnts:\n",
    "        if cv2.contourArea(c) < area:\n",
    "            continue\n",
    "        (x, y, w, h) = cv2.boundingRect(c)\n",
    "        cv2.rectangle(img, (x,y), (x+w, y+h), (0,255,0), 2)\n",
    "        text = \"Moving Object Detected\"\n",
    "        \n",
    "    print(text)\n",
    "    cv2.putText(img, text, (10,20),\n",
    "                cv2.FONT_HERSHEY_SIMPLEX, 0.5, (0,0,255), 2)\n",
    "    cv2.imshow(\"cameraFeed\", img)\n",
    "    key = cv2.waitKey(1) & 0xFF\n",
    "    if key == ord(\"q\"):\n",
    "         break\n",
    "            \n",
    "cam.release()\n",
    "cv2.destroyAllWindows()\n",
    "    \n",
    "    \n",
    "    "
   ]
  },
  {
   "cell_type": "code",
   "execution_count": null,
   "id": "rapid-rolling",
   "metadata": {},
   "outputs": [],
   "source": []
  }
 ],
 "metadata": {
  "kernelspec": {
   "display_name": "Python 3",
   "language": "python",
   "name": "python3"
  },
  "language_info": {
   "codemirror_mode": {
    "name": "ipython",
    "version": 3
   },
   "file_extension": ".py",
   "mimetype": "text/x-python",
   "name": "python",
   "nbconvert_exporter": "python",
   "pygments_lexer": "ipython3",
   "version": "3.8.6rc1"
  }
 },
 "nbformat": 4,
 "nbformat_minor": 5
}
